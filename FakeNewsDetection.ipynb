{
 "cells": [
  {
   "cell_type": "markdown",
   "metadata": {
    "id": "Qxwy6f3gHAdZ"
   },
   "source": [
    "# Fake news detection using ML \n",
    "Sushwanth Reddy\n",
    "17STUCHH010063"
   ]
  },
  {
   "cell_type": "code",
   "execution_count": 57,
   "metadata": {
    "id": "dfwl6OjZHAdv"
   },
   "outputs": [],
   "source": [
    "import pandas as pd\n",
    "import numpy as np\n",
    "import matplotlib.pyplot as plt\n",
    "import seaborn as sns \n",
    "from sklearn.feature_extraction.text import CountVectorizer\n",
    "from sklearn.feature_extraction.text import TfidfTransformer\n",
    "from sklearn import feature_extraction, linear_model, model_selection, preprocessing\n",
    "from sklearn.metrics import accuracy_score\n",
    "from sklearn.model_selection import train_test_split\n",
    "from sklearn.pipeline import Pipeline\n",
    "from sklearn.model_selection import GridSearchCV"
   ]
  },
  {
   "cell_type": "markdown",
   "metadata": {
    "id": "HxwmikmWHAdx"
   },
   "source": [
    "## Read datasets"
   ]
  },
  {
   "cell_type": "code",
   "execution_count": 58,
   "metadata": {
    "id": "C5lQx--NHAdy"
   },
   "outputs": [],
   "source": [
    "fake = pd.read_csv(\"Fake.csv\")\n",
    "true = pd.read_csv(\"True.csv\")"
   ]
  },
  {
   "cell_type": "code",
   "execution_count": 59,
   "metadata": {
    "colab": {
     "base_uri": "https://localhost:8080/"
    },
    "id": "0MXl5oLRHAdz",
    "outputId": "5c098a34-e58a-417c-cdf7-ee2a1a02ed27"
   },
   "outputs": [
    {
     "data": {
      "text/plain": [
       "(584, 2)"
      ]
     },
     "execution_count": 59,
     "metadata": {},
     "output_type": "execute_result"
    }
   ],
   "source": [
    "fake.shape"
   ]
  },
  {
   "cell_type": "code",
   "execution_count": 60,
   "metadata": {
    "colab": {
     "base_uri": "https://localhost:8080/"
    },
    "id": "OZ7f-FmaHAd2",
    "outputId": "16ab437d-ad29-4499-c844-ce6cbf57db08"
   },
   "outputs": [
    {
     "data": {
      "text/plain": [
       "(624, 2)"
      ]
     },
     "execution_count": 60,
     "metadata": {},
     "output_type": "execute_result"
    }
   ],
   "source": [
    "true.shape"
   ]
  },
  {
   "cell_type": "markdown",
   "metadata": {
    "id": "Uo2aP8AGHAd3"
   },
   "source": [
    "## Data cleaning and preparation"
   ]
  },
  {
   "cell_type": "code",
   "execution_count": 61,
   "metadata": {
    "id": "ujRtiuYOHAd4"
   },
   "outputs": [],
   "source": [
    "# Add flag to track fake and real\n",
    "fake['target'] = 'fake'\n",
    "true['target'] = 'true'"
   ]
  },
  {
   "cell_type": "code",
   "execution_count": 62,
   "metadata": {
    "colab": {
     "base_uri": "https://localhost:8080/"
    },
    "id": "hA6piZK_HAd4",
    "outputId": "a13cfb11-7957-411a-ed4c-a5d6ee1cd54b"
   },
   "outputs": [
    {
     "data": {
      "text/plain": [
       "(1208, 3)"
      ]
     },
     "execution_count": 62,
     "metadata": {},
     "output_type": "execute_result"
    }
   ],
   "source": [
    "# Concatenate dataframes\n",
    "data = pd.concat([fake, true]).reset_index(drop = True)\n",
    "data.shape"
   ]
  },
  {
   "cell_type": "code",
   "execution_count": 63,
   "metadata": {
    "id": "lCrIVIuIHAd5"
   },
   "outputs": [],
   "source": [
    "# Shuffle the data\n",
    "from sklearn.utils import shuffle\n",
    "data = shuffle(data)\n",
    "data = data.reset_index(drop=True)"
   ]
  },
  {
   "cell_type": "code",
   "execution_count": 64,
   "metadata": {
    "colab": {
     "base_uri": "https://localhost:8080/",
     "height": 195
    },
    "id": "r-5xdIsCHAd6",
    "outputId": "0aac83ee-16da-4e5c-edfb-5575db08b885"
   },
   "outputs": [
    {
     "data": {
      "text/html": [
       "<div>\n",
       "<style scoped>\n",
       "    .dataframe tbody tr th:only-of-type {\n",
       "        vertical-align: middle;\n",
       "    }\n",
       "\n",
       "    .dataframe tbody tr th {\n",
       "        vertical-align: top;\n",
       "    }\n",
       "\n",
       "    .dataframe thead th {\n",
       "        text-align: right;\n",
       "    }\n",
       "</style>\n",
       "<table border=\"1\" class=\"dataframe\">\n",
       "  <thead>\n",
       "    <tr style=\"text-align: right;\">\n",
       "      <th></th>\n",
       "      <th>Title</th>\n",
       "      <th>Text</th>\n",
       "      <th>target</th>\n",
       "    </tr>\n",
       "  </thead>\n",
       "  <tbody>\n",
       "    <tr>\n",
       "      <th>0</th>\n",
       "      <td>File APK Daftar PPS Pemilu 2024</td>\n",
       "      <td>Hasil periksa fakta Agnes Amungkasari.Modus pe...</td>\n",
       "      <td>fake</td>\n",
       "    </tr>\n",
       "    <tr>\n",
       "      <th>1</th>\n",
       "      <td>KPU Ungkap Sejumlah Kendala Sempat Terjadi Saa...</td>\n",
       "      <td>Jakarta - Komisi Pemilihan Umum (KPU) RI menca...</td>\n",
       "      <td>true</td>\n",
       "    </tr>\n",
       "    <tr>\n",
       "      <th>2</th>\n",
       "      <td>Gibran Ajukan Mundur Dari Politik Gegara Hal M...</td>\n",
       "      <td>Hasil periksa fakta Siti Lailatul FitriyahUngg...</td>\n",
       "      <td>fake</td>\n",
       "    </tr>\n",
       "    <tr>\n",
       "      <th>3</th>\n",
       "      <td>Ijazah Calon Wakil Presiden Cuma Setara SMK</td>\n",
       "      <td>Hasil Periksa Fakta Vinanda (Relawan Mafindo)F...</td>\n",
       "      <td>fake</td>\n",
       "    </tr>\n",
       "    <tr>\n",
       "      <th>4</th>\n",
       "      <td>\"Quick Count\" Pilpres 2024 Litbang Kompas Data...</td>\n",
       "      <td>Pasangan calon presiden-calon wakil presiden (...</td>\n",
       "      <td>true</td>\n",
       "    </tr>\n",
       "  </tbody>\n",
       "</table>\n",
       "</div>"
      ],
      "text/plain": [
       "                                               Title  \\\n",
       "0                    File APK Daftar PPS Pemilu 2024   \n",
       "1  KPU Ungkap Sejumlah Kendala Sempat Terjadi Saa...   \n",
       "2  Gibran Ajukan Mundur Dari Politik Gegara Hal M...   \n",
       "3        Ijazah Calon Wakil Presiden Cuma Setara SMK   \n",
       "4  \"Quick Count\" Pilpres 2024 Litbang Kompas Data...   \n",
       "\n",
       "                                                Text target  \n",
       "0  Hasil periksa fakta Agnes Amungkasari.Modus pe...   fake  \n",
       "1  Jakarta - Komisi Pemilihan Umum (KPU) RI menca...   true  \n",
       "2  Hasil periksa fakta Siti Lailatul FitriyahUngg...   fake  \n",
       "3  Hasil Periksa Fakta Vinanda (Relawan Mafindo)F...   fake  \n",
       "4  Pasangan calon presiden-calon wakil presiden (...   true  "
      ]
     },
     "execution_count": 64,
     "metadata": {},
     "output_type": "execute_result"
    }
   ],
   "source": [
    "# Check the data\n",
    "data.head()"
   ]
  },
  {
   "cell_type": "code",
   "execution_count": 65,
   "metadata": {
    "colab": {
     "base_uri": "https://localhost:8080/",
     "height": 195
    },
    "id": "u-8KoBQBHAd-",
    "outputId": "f5a41f54-6701-4857-e3f0-3c9c085d5bd4"
   },
   "outputs": [
    {
     "data": {
      "text/html": [
       "<div>\n",
       "<style scoped>\n",
       "    .dataframe tbody tr th:only-of-type {\n",
       "        vertical-align: middle;\n",
       "    }\n",
       "\n",
       "    .dataframe tbody tr th {\n",
       "        vertical-align: top;\n",
       "    }\n",
       "\n",
       "    .dataframe thead th {\n",
       "        text-align: right;\n",
       "    }\n",
       "</style>\n",
       "<table border=\"1\" class=\"dataframe\">\n",
       "  <thead>\n",
       "    <tr style=\"text-align: right;\">\n",
       "      <th></th>\n",
       "      <th>Title</th>\n",
       "      <th>Text</th>\n",
       "      <th>target</th>\n",
       "    </tr>\n",
       "  </thead>\n",
       "  <tbody>\n",
       "    <tr>\n",
       "      <th>0</th>\n",
       "      <td>File APK Daftar PPS Pemilu 2024</td>\n",
       "      <td>Hasil periksa fakta Agnes Amungkasari.Modus pe...</td>\n",
       "      <td>fake</td>\n",
       "    </tr>\n",
       "    <tr>\n",
       "      <th>1</th>\n",
       "      <td>KPU Ungkap Sejumlah Kendala Sempat Terjadi Saa...</td>\n",
       "      <td>Jakarta - Komisi Pemilihan Umum (KPU) RI menca...</td>\n",
       "      <td>true</td>\n",
       "    </tr>\n",
       "    <tr>\n",
       "      <th>2</th>\n",
       "      <td>Gibran Ajukan Mundur Dari Politik Gegara Hal M...</td>\n",
       "      <td>Hasil periksa fakta Siti Lailatul FitriyahUngg...</td>\n",
       "      <td>fake</td>\n",
       "    </tr>\n",
       "    <tr>\n",
       "      <th>3</th>\n",
       "      <td>Ijazah Calon Wakil Presiden Cuma Setara SMK</td>\n",
       "      <td>Hasil Periksa Fakta Vinanda (Relawan Mafindo)F...</td>\n",
       "      <td>fake</td>\n",
       "    </tr>\n",
       "    <tr>\n",
       "      <th>4</th>\n",
       "      <td>\"Quick Count\" Pilpres 2024 Litbang Kompas Data...</td>\n",
       "      <td>Pasangan calon presiden-calon wakil presiden (...</td>\n",
       "      <td>true</td>\n",
       "    </tr>\n",
       "  </tbody>\n",
       "</table>\n",
       "</div>"
      ],
      "text/plain": [
       "                                               Title  \\\n",
       "0                    File APK Daftar PPS Pemilu 2024   \n",
       "1  KPU Ungkap Sejumlah Kendala Sempat Terjadi Saa...   \n",
       "2  Gibran Ajukan Mundur Dari Politik Gegara Hal M...   \n",
       "3        Ijazah Calon Wakil Presiden Cuma Setara SMK   \n",
       "4  \"Quick Count\" Pilpres 2024 Litbang Kompas Data...   \n",
       "\n",
       "                                                Text target  \n",
       "0  Hasil periksa fakta Agnes Amungkasari.Modus pe...   fake  \n",
       "1  Jakarta - Komisi Pemilihan Umum (KPU) RI menca...   true  \n",
       "2  Hasil periksa fakta Siti Lailatul FitriyahUngg...   fake  \n",
       "3  Hasil Periksa Fakta Vinanda (Relawan Mafindo)F...   fake  \n",
       "4  Pasangan calon presiden-calon wakil presiden (...   true  "
      ]
     },
     "execution_count": 65,
     "metadata": {},
     "output_type": "execute_result"
    }
   ],
   "source": [
    "# Check\n",
    "data.head()"
   ]
  },
  {
   "cell_type": "code",
   "execution_count": 66,
   "metadata": {
    "colab": {
     "base_uri": "https://localhost:8080/",
     "height": 195
    },
    "id": "jOke-E9THAeA",
    "outputId": "7026d38d-9da0-48ab-969d-c225588089ec"
   },
   "outputs": [
    {
     "data": {
      "text/html": [
       "<div>\n",
       "<style scoped>\n",
       "    .dataframe tbody tr th:only-of-type {\n",
       "        vertical-align: middle;\n",
       "    }\n",
       "\n",
       "    .dataframe tbody tr th {\n",
       "        vertical-align: top;\n",
       "    }\n",
       "\n",
       "    .dataframe thead th {\n",
       "        text-align: right;\n",
       "    }\n",
       "</style>\n",
       "<table border=\"1\" class=\"dataframe\">\n",
       "  <thead>\n",
       "    <tr style=\"text-align: right;\">\n",
       "      <th></th>\n",
       "      <th>Title</th>\n",
       "      <th>Text</th>\n",
       "      <th>target</th>\n",
       "    </tr>\n",
       "  </thead>\n",
       "  <tbody>\n",
       "    <tr>\n",
       "      <th>0</th>\n",
       "      <td>File APK Daftar PPS Pemilu 2024</td>\n",
       "      <td>Hasil periksa fakta Agnes Amungkasari.Modus pe...</td>\n",
       "      <td>fake</td>\n",
       "    </tr>\n",
       "    <tr>\n",
       "      <th>1</th>\n",
       "      <td>KPU Ungkap Sejumlah Kendala Sempat Terjadi Saa...</td>\n",
       "      <td>Jakarta - Komisi Pemilihan Umum (KPU) RI menca...</td>\n",
       "      <td>true</td>\n",
       "    </tr>\n",
       "    <tr>\n",
       "      <th>2</th>\n",
       "      <td>Gibran Ajukan Mundur Dari Politik Gegara Hal M...</td>\n",
       "      <td>Hasil periksa fakta Siti Lailatul FitriyahUngg...</td>\n",
       "      <td>fake</td>\n",
       "    </tr>\n",
       "    <tr>\n",
       "      <th>3</th>\n",
       "      <td>Ijazah Calon Wakil Presiden Cuma Setara SMK</td>\n",
       "      <td>Hasil Periksa Fakta Vinanda (Relawan Mafindo)F...</td>\n",
       "      <td>fake</td>\n",
       "    </tr>\n",
       "    <tr>\n",
       "      <th>4</th>\n",
       "      <td>\"Quick Count\" Pilpres 2024 Litbang Kompas Data...</td>\n",
       "      <td>Pasangan calon presiden-calon wakil presiden (...</td>\n",
       "      <td>true</td>\n",
       "    </tr>\n",
       "  </tbody>\n",
       "</table>\n",
       "</div>"
      ],
      "text/plain": [
       "                                               Title  \\\n",
       "0                    File APK Daftar PPS Pemilu 2024   \n",
       "1  KPU Ungkap Sejumlah Kendala Sempat Terjadi Saa...   \n",
       "2  Gibran Ajukan Mundur Dari Politik Gegara Hal M...   \n",
       "3        Ijazah Calon Wakil Presiden Cuma Setara SMK   \n",
       "4  \"Quick Count\" Pilpres 2024 Litbang Kompas Data...   \n",
       "\n",
       "                                                Text target  \n",
       "0  Hasil periksa fakta Agnes Amungkasari.Modus pe...   fake  \n",
       "1  Jakarta - Komisi Pemilihan Umum (KPU) RI menca...   true  \n",
       "2  Hasil periksa fakta Siti Lailatul FitriyahUngg...   fake  \n",
       "3  Hasil Periksa Fakta Vinanda (Relawan Mafindo)F...   fake  \n",
       "4  Pasangan calon presiden-calon wakil presiden (...   true  "
      ]
     },
     "execution_count": 66,
     "metadata": {},
     "output_type": "execute_result"
    }
   ],
   "source": [
    "data.head()"
   ]
  },
  {
   "cell_type": "markdown",
   "metadata": {
    "id": "_0F_NPU5HAeB"
   },
   "source": [
    "## Basic data exploration"
   ]
  },
  {
   "cell_type": "code",
   "execution_count": 67,
   "metadata": {
    "colab": {
     "base_uri": "https://localhost:8080/",
     "height": 358
    },
    "id": "ZufCAhjrHAeD",
    "outputId": "3e07c5c8-8ed0-4e1b-c1ea-1fd5b7483e31"
   },
   "outputs": [
    {
     "name": "stdout",
     "output_type": "stream",
     "text": [
      "target\n",
      "fake    584\n",
      "true    624\n",
      "Name: Text, dtype: int64\n"
     ]
    },
    {
     "data": {
      "image/png": "[encoded data removed]",
      "text/plain": [
       "<Figure size 640x480 with 1 Axes>"
      ]
     },
     "metadata": {},
     "output_type": "display_data"
    }
   ],
   "source": [
    "# How many fake and real articles?\n",
    "print(data.groupby(['target'])['Text'].count())\n",
    "data.groupby(['target'])['Text'].count().plot(kind=\"bar\")\n",
    "plt.show()"
   ]
  },
  {
   "cell_type": "markdown",
   "metadata": {
    "id": "p6ZxKwHNHAeH"
   },
   "source": [
    "## Modeling"
   ]
  },
  {
   "cell_type": "code",
   "execution_count": 68,
   "metadata": {
    "id": "7RuBuf3IHAeH"
   },
   "outputs": [],
   "source": [
    "# Function to plot the confusion matrix (code from https://scikit-learn.org/stable/auto_examples/model_selection/plot_confusion_matrix.html)\n",
    "from sklearn import metrics\n",
    "import itertools\n",
    "\n",
    "def plot_confusion_matrix(cm, classes,\n",
    "                          normalize=False,\n",
    "                          title='Confusion matrix',\n",
    "                          cmap=plt.cm.Blues):\n",
    "    \n",
    "    plt.imshow(cm, interpolation='nearest', cmap=cmap)\n",
    "    plt.title(title)\n",
    "    plt.colorbar()\n",
    "    tick_marks = np.arange(len(classes))\n",
    "    plt.xticks(tick_marks, classes, rotation=45)\n",
    "    plt.yticks(tick_marks, classes)\n",
    "\n",
    "    if normalize:\n",
    "        cm = cm.astype('float') / cm.sum(axis=1)[:, np.newaxis]\n",
    "        print(\"Normalized confusion matrix\")\n",
    "    else:\n",
    "        print('Confusion matrix, without normalization')\n",
    "\n",
    "    thresh = cm.max() / 2.\n",
    "    for i, j in itertools.product(range(cm.shape[0]), range(cm.shape[1])):\n",
    "        plt.text(j, i, cm[i, j],\n",
    "                 horizontalalignment=\"center\",\n",
    "                 color=\"white\" if cm[i, j] > thresh else \"black\")\n",
    "\n",
    "    plt.tight_layout()\n",
    "    plt.ylabel('True label')\n",
    "    plt.xlabel('Predicted label')"
   ]
  },
  {
   "cell_type": "markdown",
   "metadata": {
    "id": "jbjCGLHhHAeK"
   },
   "source": [
    "### Peparing the data"
   ]
  },
  {
   "cell_type": "code",
   "execution_count": 69,
   "metadata": {
    "id": "aI8PPFokHAeK"
   },
   "outputs": [],
   "source": [
    "# Split the data\n",
    "X_train,X_test,y_train,y_test = train_test_split(data['Text'], data.target, test_size=0.3, random_state=42)"
   ]
  },
  {
   "cell_type": "markdown",
   "metadata": {
    "id": "nxzHMRm5Qhzd"
   },
   "source": [
    "# **Naive Bayes**\n",
    "\n",
    "\n"
   ]
  },
  {
   "cell_type": "code",
   "execution_count": 70,
   "metadata": {
    "colab": {
     "base_uri": "https://localhost:8080/"
    },
    "id": "kjFn6WexHAeQ",
    "outputId": "00c9024f-cdc4-400e-80ef-366439b4229e"
   },
   "outputs": [
    {
     "name": "stdout",
     "output_type": "stream",
     "text": [
      "accuracy: 96.42%\n"
     ]
    }
   ],
   "source": [
    "dct = dict()\n",
    "\n",
    "from sklearn.naive_bayes import MultinomialNB\n",
    "\n",
    "NB_classifier = MultinomialNB()\n",
    "pipe = Pipeline([('vect', CountVectorizer()),\n",
    "                 ('tfidf', TfidfTransformer()),\n",
    "                 ('model', NB_classifier)])\n",
    "\n",
    "model = pipe.fit(X_train, y_train)\n",
    "prediction = model.predict(X_test)\n",
    "print(\"accuracy: {}%\".format(round(accuracy_score(y_test, prediction)*100,2)))\n",
    "\n",
    "dct['Naive Bayes'] = round(accuracy_score(y_test, prediction)*100,2)"
   ]
  },
  {
   "cell_type": "code",
   "execution_count": 71,
   "metadata": {},
   "outputs": [
    {
     "name": "stdout",
     "output_type": "stream",
     "text": [
      "Accuracy on testing set: 0.9641873278236914\n",
      "Precision on testing set: 0.93717277486911\n",
      "Recall on testing set: 0.9944444444444445\n",
      "F1 Score on testing set: 0.9649595687331536\n"
     ]
    }
   ],
   "source": [
    "print('Accuracy on testing set:', metrics.accuracy_score(y_test, prediction))\n",
    "print('Precision on testing set:', metrics.precision_score(y_test, prediction, pos_label='true'))\n",
    "print('Recall on testing set:', metrics.recall_score(y_test, prediction, pos_label='true'))\n",
    "print('F1 Score on testing set:', metrics.f1_score(y_test, prediction, pos_label='true'))"
   ]
  },
  {
   "cell_type": "code",
   "execution_count": 72,
   "metadata": {
    "id": "heC8TZXKV8rD"
   },
   "outputs": [
    {
     "name": "stdout",
     "output_type": "stream",
     "text": [
      "Confusion matrix, without normalization\n"
     ]
    },
    {
     "data": {
      "image/png": "[encoded data removed]",
      "text/plain": [
       "<Figure size 640x480 with 2 Axes>"
      ]
     },
     "metadata": {},
     "output_type": "display_data"
    }
   ],
   "source": [
    "cm = metrics.confusion_matrix(y_test, prediction)\n",
    "plot_confusion_matrix(cm, classes=['Fake', 'Real'])"
   ]
  },
  {
   "cell_type": "code",
   "execution_count": 73,
   "metadata": {},
   "outputs": [
    {
     "name": "stdout",
     "output_type": "stream",
     "text": [
      "Best parameters found:  {'model__alpha': 0.1, 'tfidf__use_idf': True, 'vect__max_df': 0.75, 'vect__min_df': 2, 'vect__ngram_range': (1, 2)}\n",
      "accuracy: 99.45%\n"
     ]
    }
   ],
   "source": [
    "\n",
    "# Define the pipeline\n",
    "pipe = Pipeline([\n",
    "    ('vect', CountVectorizer()),\n",
    "    ('tfidf', TfidfTransformer()),\n",
    "    ('model', MultinomialNB())\n",
    "])\n",
    "\n",
    "# Define the hyperparameters grid to search\n",
    "param_grid = {\n",
    "    'vect__max_df': [0.75, 1.0],\n",
    "    'vect__min_df': [1, 2],\n",
    "    'vect__ngram_range': [(1, 1), (1, 2)],\n",
    "    'tfidf__use_idf': [True, False],\n",
    "    'model__alpha': [0.1, 0.5, 1.0]\n",
    "}\n",
    "\n",
    "# Initialize GridSearchCV\n",
    "grid_search = GridSearchCV(pipe, param_grid, cv=5, scoring='accuracy')\n",
    "\n",
    "# Fit the model with GridSearchCV\n",
    "grid_search.fit(X_train, y_train)\n",
    "\n",
    "# Get the best parameters\n",
    "best_params = grid_search.best_params_\n",
    "print(\"Best parameters found: \", best_params)\n",
    "\n",
    "# Predict with the best model\n",
    "best_model = grid_search.best_estimator_\n",
    "prediction = best_model.predict(X_test)\n",
    "\n",
    "# Print accuracy\n",
    "print(\"accuracy: {}%\".format(round(accuracy_score(y_test, prediction)*100, 2)))\n",
    "\n",
    "# Store the accuracy in the dictionary\n",
    "dct['Naive Bayes'] = round(accuracy_score(y_test, prediction)*100, 2)\n"
   ]
  },
  {
   "cell_type": "code",
   "execution_count": 74,
   "metadata": {},
   "outputs": [
    {
     "name": "stdout",
     "output_type": "stream",
     "text": [
      "Accuracy on testing set: 0.9944903581267218\n",
      "Precision on testing set: 0.989010989010989\n",
      "Recall on testing set: 1.0\n",
      "F1 Score on testing set: 0.994475138121547\n"
     ]
    }
   ],
   "source": [
    "print('Accuracy on testing set:', metrics.accuracy_score(y_test, prediction))\n",
    "print('Precision on testing set:', metrics.precision_score(y_test, prediction, pos_label='true'))\n",
    "print('Recall on testing set:', metrics.recall_score(y_test, prediction, pos_label='true'))\n",
    "print('F1 Score on testing set:', metrics.f1_score(y_test, prediction, pos_label='true'))"
   ]
  },
  {
   "cell_type": "code",
   "execution_count": 75,
   "metadata": {},
   "outputs": [
    {
     "name": "stdout",
     "output_type": "stream",
     "text": [
      "Confusion matrix, without normalization\n"
     ]
    },
    {
     "data": {
      "image/png": "[encoded data removed]",
      "text/plain": [
       "<Figure size 640x480 with 2 Axes>"
      ]
     },
     "metadata": {},
     "output_type": "display_data"
    }
   ],
   "source": [
    "cm = metrics.confusion_matrix(y_test, prediction)\n",
    "plot_confusion_matrix(cm, classes=['Fake', 'Real'])"
   ]
  },
  {
   "cell_type": "markdown",
   "metadata": {
    "id": "xskElBhWHAeL"
   },
   "source": [
    "# **Logistic regression**"
   ]
  },
  {
   "cell_type": "code",
   "execution_count": 76,
   "metadata": {
    "colab": {
     "base_uri": "https://localhost:8080/"
    },
    "id": "mAcQUNlGHAeL",
    "outputId": "f2d902ba-95bb-4766-c08e-d03d845b929a"
   },
   "outputs": [
    {
     "name": "stdout",
     "output_type": "stream",
     "text": [
      "accuracy: 98.35%\n"
     ]
    }
   ],
   "source": [
    "# Vectorizing and applying TF-IDF\n",
    "from sklearn.linear_model import LogisticRegression\n",
    "\n",
    "pipe = Pipeline([('vect', CountVectorizer()),\n",
    "                 ('tfidf', TfidfTransformer()),\n",
    "                 ('model', LogisticRegression())])\n",
    "\n",
    "# Fitting the model\n",
    "model = pipe.fit(X_train, y_train)\n",
    "\n",
    "# Accuracy\n",
    "prediction = model.predict(X_test)\n",
    "print(\"accuracy: {}%\".format(round(accuracy_score(y_test, prediction)*100,2)))\n",
    "dct['Logistic Regression'] = round(accuracy_score(y_test, prediction)*100,2)\n"
   ]
  },
  {
   "cell_type": "code",
   "execution_count": 77,
   "metadata": {},
   "outputs": [
    {
     "name": "stdout",
     "output_type": "stream",
     "text": [
      "Accuracy on testing set: 0.9834710743801653\n",
      "Precision on testing set: 0.9728260869565217\n",
      "Recall on testing set: 0.9944444444444445\n",
      "F1 Score on testing set: 0.9835164835164836\n"
     ]
    }
   ],
   "source": [
    "print('Accuracy on testing set:', metrics.accuracy_score(y_test, prediction))\n",
    "print('Precision on testing set:', metrics.precision_score(y_test, prediction, pos_label='true'))\n",
    "print('Recall on testing set:', metrics.recall_score(y_test, prediction, pos_label='true'))\n",
    "print('F1 Score on testing set:', metrics.f1_score(y_test, prediction, pos_label='true'))"
   ]
  },
  {
   "cell_type": "code",
   "execution_count": 78,
   "metadata": {
    "colab": {
     "base_uri": "https://localhost:8080/",
     "height": 328
    },
    "id": "urlI5cJ0HAeM",
    "outputId": "79842433-f7b2-48bc-f95c-fd4613c4ee69"
   },
   "outputs": [
    {
     "name": "stdout",
     "output_type": "stream",
     "text": [
      "Confusion matrix, without normalization\n"
     ]
    },
    {
     "data": {
      "image/png": "[encoded data removed]",
      "text/plain": [
       "<Figure size 640x480 with 2 Axes>"
      ]
     },
     "metadata": {},
     "output_type": "display_data"
    }
   ],
   "source": [
    "cm = metrics.confusion_matrix(y_test, prediction)\n",
    "plot_confusion_matrix(cm, classes=['Fake', 'Real'])"
   ]
  },
  {
   "cell_type": "code",
   "execution_count": 79,
   "metadata": {},
   "outputs": [
    {
     "name": "stdout",
     "output_type": "stream",
     "text": [
      "Best parameters found:  {'model__C': 10.0, 'model__penalty': 'l2', 'tfidf__use_idf': True, 'vect__max_df': 0.75, 'vect__min_df': 2, 'vect__ngram_range': (1, 2)}\n",
      "accuracy: 99.45%\n"
     ]
    }
   ],
   "source": [
    "\n",
    "# Define the pipeline\n",
    "pipe = Pipeline([\n",
    "    ('vect', CountVectorizer()),\n",
    "    ('tfidf', TfidfTransformer()),\n",
    "    ('model', LogisticRegression(solver='liblinear'))  # Use 'liblinear' for small datasets\n",
    "])\n",
    "\n",
    "# Define the hyperparameters grid to search\n",
    "param_grid = {\n",
    "    'vect__max_df': [0.75, 1.0],\n",
    "    'vect__min_df': [1, 2],\n",
    "    'vect__ngram_range': [(1, 1), (1, 2)],\n",
    "    'tfidf__use_idf': [True, False],\n",
    "    'model__C': [0.1, 1.0, 10.0],  # Regularization strength\n",
    "    'model__penalty': ['l1', 'l2']  # Penalty type\n",
    "}\n",
    "\n",
    "# Initialize GridSearchCV\n",
    "grid_search = GridSearchCV(pipe, param_grid, cv=5, scoring='accuracy')\n",
    "\n",
    "# Fit the model with GridSearchCV\n",
    "grid_search.fit(X_train, y_train)\n",
    "\n",
    "# Get the best parameters\n",
    "best_params = grid_search.best_params_\n",
    "print(\"Best parameters found: \", best_params)\n",
    "\n",
    "# Predict with the best model\n",
    "best_model = grid_search.best_estimator_\n",
    "prediction = best_model.predict(X_test)\n",
    "\n",
    "# Print accuracy\n",
    "print(\"accuracy: {}%\".format(round(accuracy_score(y_test, prediction)*100, 2)))\n",
    "\n",
    "# Store the accuracy in the dictionary\n",
    "dct['Logistic Regression'] = round(accuracy_score(y_test, prediction)*100, 2)\n"
   ]
  },
  {
   "cell_type": "code",
   "execution_count": 80,
   "metadata": {},
   "outputs": [
    {
     "name": "stdout",
     "output_type": "stream",
     "text": [
      "Accuracy on testing set: 0.9944903581267218\n",
      "Precision on testing set: 0.9944444444444445\n",
      "Recall on testing set: 0.9944444444444445\n",
      "F1 Score on testing set: 0.9944444444444445\n"
     ]
    }
   ],
   "source": [
    "print('Accuracy on testing set:', metrics.accuracy_score(y_test, prediction))\n",
    "print('Precision on testing set:', metrics.precision_score(y_test, prediction, pos_label='true'))\n",
    "print('Recall on testing set:', metrics.recall_score(y_test, prediction, pos_label='true'))\n",
    "print('F1 Score on testing set:', metrics.f1_score(y_test, prediction, pos_label='true'))"
   ]
  },
  {
   "cell_type": "code",
   "execution_count": 81,
   "metadata": {},
   "outputs": [
    {
     "name": "stdout",
     "output_type": "stream",
     "text": [
      "Confusion matrix, without normalization\n"
     ]
    },
    {
     "data": {
      "image/png": "[encoded data removed]",
      "text/plain": [
       "<Figure size 640x480 with 2 Axes>"
      ]
     },
     "metadata": {},
     "output_type": "display_data"
    }
   ],
   "source": [
    "cm = metrics.confusion_matrix(y_test, prediction)\n",
    "plot_confusion_matrix(cm, classes=['Fake', 'Real'])"
   ]
  },
  {
   "cell_type": "markdown",
   "metadata": {
    "id": "0KKyYvcRHAeM"
   },
   "source": [
    "# **Decision Tree**"
   ]
  },
  {
   "cell_type": "code",
   "execution_count": 82,
   "metadata": {
    "colab": {
     "base_uri": "https://localhost:8080/"
    },
    "id": "gvGR_1IqHAeN",
    "outputId": "bc8ec1bc-cce9-4e81-a1a3-7ba282d3b87e"
   },
   "outputs": [
    {
     "name": "stdout",
     "output_type": "stream",
     "text": [
      "accuracy: 95.87%\n"
     ]
    }
   ],
   "source": [
    "from sklearn.tree import DecisionTreeClassifier\n",
    "\n",
    "# Vectorizing and applying TF-IDF\n",
    "pipe = Pipeline([('vect', CountVectorizer()),\n",
    "                 ('tfidf', TfidfTransformer()),\n",
    "                 ('model', DecisionTreeClassifier(criterion= 'entropy',\n",
    "                                           max_depth = 20, \n",
    "                                           splitter='best', \n",
    "                                           random_state=42))])\n",
    "# Fitting the model\n",
    "model = pipe.fit(X_train, y_train)\n",
    "\n",
    "# Accuracy\n",
    "prediction = model.predict(X_test)\n",
    "print(\"accuracy: {}%\".format(round(accuracy_score(y_test, prediction)*100,2)))\n",
    "dct['Decision Tree'] = round(accuracy_score(y_test, prediction)*100,2)"
   ]
  },
  {
   "cell_type": "code",
   "execution_count": 83,
   "metadata": {},
   "outputs": [
    {
     "name": "stdout",
     "output_type": "stream",
     "text": [
      "Accuracy on testing set: 0.9586776859504132\n",
      "Precision on testing set: 0.976878612716763\n",
      "Recall on testing set: 0.9388888888888889\n",
      "F1 Score on testing set: 0.9575070821529745\n"
     ]
    }
   ],
   "source": [
    "print('Accuracy on testing set:', metrics.accuracy_score(y_test, prediction))\n",
    "print('Precision on testing set:', metrics.precision_score(y_test, prediction, pos_label='true'))\n",
    "print('Recall on testing set:', metrics.recall_score(y_test, prediction, pos_label='true'))\n",
    "print('F1 Score on testing set:', metrics.f1_score(y_test, prediction, pos_label='true'))"
   ]
  },
  {
   "cell_type": "code",
   "execution_count": 84,
   "metadata": {
    "colab": {
     "base_uri": "https://localhost:8080/",
     "height": 328
    },
    "id": "PFodjIGxHAeO",
    "outputId": "0a973ff5-075c-47f3-e73b-f1a43c1a12ff"
   },
   "outputs": [
    {
     "name": "stdout",
     "output_type": "stream",
     "text": [
      "Confusion matrix, without normalization\n"
     ]
    },
    {
     "data": {
      "image/png": "[encoded data removed]",
      "text/plain": [
       "<Figure size 640x480 with 2 Axes>"
      ]
     },
     "metadata": {},
     "output_type": "display_data"
    }
   ],
   "source": [
    "cm = metrics.confusion_matrix(y_test, prediction)\n",
    "plot_confusion_matrix(cm, classes=['Fake', 'Real'])"
   ]
  },
  {
   "cell_type": "code",
   "execution_count": 85,
   "metadata": {},
   "outputs": [
    {
     "name": "stdout",
     "output_type": "stream",
     "text": [
      "Best parameters found:  {'model__criterion': 'gini', 'model__max_depth': 10, 'model__min_samples_leaf': 5, 'model__min_samples_split': 20, 'model__splitter': 'random', 'tfidf__use_idf': False, 'vect__max_df': 1.0, 'vect__min_df': 1, 'vect__ngram_range': (1, 1)}\n",
      "accuracy: 97.25%\n"
     ]
    }
   ],
   "source": [
    "\n",
    "# Define the pipeline\n",
    "pipe = Pipeline([\n",
    "    ('vect', CountVectorizer()),\n",
    "    ('tfidf', TfidfTransformer()),\n",
    "    ('model', DecisionTreeClassifier(random_state=42))\n",
    "])\n",
    "\n",
    "# Define the hyperparameters grid to search\n",
    "param_grid = {\n",
    "    'vect__max_df': [0.75, 1.0],\n",
    "    'vect__min_df': [1, 2],\n",
    "    'vect__ngram_range': [(1, 1), (1, 2)],\n",
    "    'tfidf__use_idf': [True, False],\n",
    "    'model__criterion': ['gini', 'entropy'],\n",
    "    'model__max_depth': [None, 10, 20, 30],\n",
    "    'model__splitter': ['best', 'random'],\n",
    "    'model__min_samples_split': [2, 10, 20],\n",
    "    'model__min_samples_leaf': [1, 5, 10]\n",
    "}\n",
    "\n",
    "# Initialize GridSearchCV\n",
    "grid_search = GridSearchCV(pipe, param_grid, cv=5, scoring='accuracy')\n",
    "\n",
    "# Fit the model with GridSearchCV\n",
    "grid_search.fit(X_train, y_train)\n",
    "\n",
    "# Get the best parameters\n",
    "best_params = grid_search.best_params_\n",
    "print(\"Best parameters found: \", best_params)\n",
    "\n",
    "# Predict with the best model\n",
    "best_model = grid_search.best_estimator_\n",
    "prediction = best_model.predict(X_test)\n",
    "\n",
    "# Print accuracy\n",
    "print(\"accuracy: {}%\".format(round(accuracy_score(y_test, prediction)*100, 2)))\n",
    "\n",
    "# Store the accuracy in the dictionary\n",
    "dct['Decision Tree'] = round(accuracy_score(y_test, prediction)*100, 2)\n"
   ]
  },
  {
   "cell_type": "code",
   "execution_count": 86,
   "metadata": {},
   "outputs": [
    {
     "name": "stdout",
     "output_type": "stream",
     "text": [
      "Accuracy on testing set: 0.9724517906336089\n",
      "Precision on testing set: 0.9722222222222222\n",
      "Recall on testing set: 0.9722222222222222\n",
      "F1 Score on testing set: 0.9722222222222222\n"
     ]
    }
   ],
   "source": [
    "print('Accuracy on testing set:', metrics.accuracy_score(y_test, prediction))\n",
    "print('Precision on testing set:', metrics.precision_score(y_test, prediction, pos_label='true'))\n",
    "print('Recall on testing set:', metrics.recall_score(y_test, prediction, pos_label='true'))\n",
    "print('F1 Score on testing set:', metrics.f1_score(y_test, prediction, pos_label='true'))"
   ]
  },
  {
   "cell_type": "code",
   "execution_count": 87,
   "metadata": {},
   "outputs": [
    {
     "name": "stdout",
     "output_type": "stream",
     "text": [
      "Confusion matrix, without normalization\n"
     ]
    },
    {
     "data": {
      "image/png": "[encoded data removed]",
      "text/plain": [
       "<Figure size 640x480 with 2 Axes>"
      ]
     },
     "metadata": {},
     "output_type": "display_data"
    }
   ],
   "source": [
    "cm = metrics.confusion_matrix(y_test, prediction)\n",
    "plot_confusion_matrix(cm, classes=['Fake', 'Real'])"
   ]
  },
  {
   "cell_type": "markdown",
   "metadata": {
    "id": "F3qgbSXLQNXi"
   },
   "source": [
    "## **SVM**"
   ]
  },
  {
   "cell_type": "code",
   "execution_count": 88,
   "metadata": {
    "id": "XPX09B-wHAeQ"
   },
   "outputs": [
    {
     "name": "stdout",
     "output_type": "stream",
     "text": [
      "accuracy: 99.45%\n"
     ]
    }
   ],
   "source": [
    "from sklearn import svm\n",
    "\n",
    "#Create a svm Classifier\n",
    "clf = svm.SVC(kernel='linear') # Linear Kernel\n",
    "\n",
    "pipe = Pipeline([('vect', CountVectorizer()),\n",
    "                 ('tfidf', TfidfTransformer()),\n",
    "                 ('model', clf)])\n",
    "\n",
    "model = pipe.fit(X_train, y_train)\n",
    "prediction = model.predict(X_test)\n",
    "print(\"accuracy: {}%\".format(round(accuracy_score(y_test, prediction)*100,2)))\n",
    "dct['SVM'] = round(accuracy_score(y_test, prediction)*100,2)\n",
    "\n"
   ]
  },
  {
   "cell_type": "code",
   "execution_count": 89,
   "metadata": {},
   "outputs": [
    {
     "name": "stdout",
     "output_type": "stream",
     "text": [
      "Accuracy on testing set: 0.9944903581267218\n",
      "Precision on testing set: 0.9944444444444445\n",
      "Recall on testing set: 0.9944444444444445\n",
      "F1 Score on testing set: 0.9944444444444445\n"
     ]
    }
   ],
   "source": [
    "print('Accuracy on testing set:', metrics.accuracy_score(y_test, prediction))\n",
    "print('Precision on testing set:', metrics.precision_score(y_test, prediction, pos_label='true'))\n",
    "print('Recall on testing set:', metrics.recall_score(y_test, prediction, pos_label='true'))\n",
    "print('F1 Score on testing set:', metrics.f1_score(y_test, prediction, pos_label='true'))"
   ]
  },
  {
   "cell_type": "code",
   "execution_count": 90,
   "metadata": {
    "id": "krx-Od4DV_Fa"
   },
   "outputs": [
    {
     "name": "stdout",
     "output_type": "stream",
     "text": [
      "Confusion matrix, without normalization\n"
     ]
    },
    {
     "data": {
      "image/png": "[encoded data removed]",
      "text/plain": [
       "<Figure size 640x480 with 2 Axes>"
      ]
     },
     "metadata": {},
     "output_type": "display_data"
    }
   ],
   "source": [
    "cm = metrics.confusion_matrix(y_test, prediction)\n",
    "plot_confusion_matrix(cm, classes=['Fake', 'Real'])"
   ]
  },
  {
   "cell_type": "code",
   "execution_count": 91,
   "metadata": {},
   "outputs": [
    {
     "name": "stdout",
     "output_type": "stream",
     "text": [
      "Best parameters found:  {'model__C': 1, 'model__gamma': 'scale', 'model__kernel': 'linear', 'tfidf__use_idf': True, 'vect__max_df': 0.75, 'vect__min_df': 2, 'vect__ngram_range': (1, 1)}\n",
      "accuracy: 99.72%\n"
     ]
    }
   ],
   "source": [
    "\n",
    "# Define the pipeline\n",
    "pipe = Pipeline([\n",
    "    ('vect', CountVectorizer()),\n",
    "    ('tfidf', TfidfTransformer()),\n",
    "    ('model', svm.SVC())\n",
    "])\n",
    "\n",
    "# Define the hyperparameters grid to search\n",
    "param_grid = {\n",
    "    'vect__max_df': [0.75, 1.0],\n",
    "    'vect__min_df': [1, 2],\n",
    "    'vect__ngram_range': [(1, 1), (1, 2)],\n",
    "    'tfidf__use_idf': [True, False],\n",
    "    'model__kernel': ['linear', 'rbf', 'poly'],  # Different kernels to try\n",
    "    'model__C': [0.1, 1, 10],  # Regularization parameter\n",
    "    'model__gamma': ['scale', 'auto']  # Kernel coefficient for 'rbf' and 'poly'\n",
    "}\n",
    "\n",
    "# Initialize GridSearchCV\n",
    "grid_search = GridSearchCV(pipe, param_grid, cv=5, scoring='accuracy')\n",
    "\n",
    "# Fit the model with GridSearchCV\n",
    "grid_search.fit(X_train, y_train)\n",
    "\n",
    "# Get the best parameters\n",
    "best_params = grid_search.best_params_\n",
    "print(\"Best parameters found: \", best_params)\n",
    "\n",
    "# Predict with the best model\n",
    "best_model = grid_search.best_estimator_\n",
    "prediction = best_model.predict(X_test)\n",
    "\n",
    "# Print accuracy\n",
    "print(\"accuracy: {}%\".format(round(accuracy_score(y_test, prediction)*100, 2)))\n",
    "\n",
    "# Store the accuracy in the dictionary\n",
    "dct['SVM'] = round(accuracy_score(y_test, prediction)*100, 2)\n"
   ]
  },
  {
   "cell_type": "code",
   "execution_count": 92,
   "metadata": {},
   "outputs": [
    {
     "name": "stdout",
     "output_type": "stream",
     "text": [
      "Accuracy on testing set: 0.9972451790633609\n",
      "Precision on testing set: 0.994475138121547\n",
      "Recall on testing set: 1.0\n",
      "F1 Score on testing set: 0.9972299168975068\n"
     ]
    }
   ],
   "source": [
    "print('Accuracy on testing set:', metrics.accuracy_score(y_test, prediction))\n",
    "print('Precision on testing set:', metrics.precision_score(y_test, prediction, pos_label='true'))\n",
    "print('Recall on testing set:', metrics.recall_score(y_test, prediction, pos_label='true'))\n",
    "print('F1 Score on testing set:', metrics.f1_score(y_test, prediction, pos_label='true'))"
   ]
  },
  {
   "cell_type": "code",
   "execution_count": 93,
   "metadata": {},
   "outputs": [
    {
     "name": "stdout",
     "output_type": "stream",
     "text": [
      "Confusion matrix, without normalization\n"
     ]
    },
    {
     "data": {
      "image/png": "[encoded data removed]",
      "text/plain": [
       "<Figure size 640x480 with 2 Axes>"
      ]
     },
     "metadata": {},
     "output_type": "display_data"
    }
   ],
   "source": [
    "cm = metrics.confusion_matrix(y_test, prediction)\n",
    "plot_confusion_matrix(cm, classes=['Fake', 'Real'])"
   ]
  },
  {
   "cell_type": "markdown",
   "metadata": {
    "id": "TNi2RqzYWBON"
   },
   "source": [
    "# **Comparing** **Different Models**"
   ]
  },
  {
   "cell_type": "code",
   "execution_count": 94,
   "metadata": {
    "colab": {
     "base_uri": "https://localhost:8080/",
     "height": 617
    },
    "id": "QIX7kVUZSpji",
    "outputId": "dd54a85c-67a9-4ae9-9fbd-a4a82f15f0ff"
   },
   "outputs": [
    {
     "data": {
      "text/plain": [
       "([<matplotlib.axis.YTick at 0x7f96410f7cd0>,\n",
       "  <matplotlib.axis.YTick at 0x7f96410f7f70>,\n",
       "  <matplotlib.axis.YTick at 0x7f9633b838b0>,\n",
       "  <matplotlib.axis.YTick at 0x7f96509367f0>,\n",
       "  <matplotlib.axis.YTick at 0x7f96412336a0>,\n",
       "  <matplotlib.axis.YTick at 0x7f9641233bb0>,\n",
       "  <matplotlib.axis.YTick at 0x7f9650936580>,\n",
       "  <matplotlib.axis.YTick at 0x7f9640d17f40>,\n",
       "  <matplotlib.axis.YTick at 0x7f9650943d90>,\n",
       "  <matplotlib.axis.YTick at 0x7f9650936430>],\n",
       " [Text(0, 91, '91'),\n",
       "  Text(0, 92, '92'),\n",
       "  Text(0, 93, '93'),\n",
       "  Text(0, 94, '94'),\n",
       "  Text(0, 95, '95'),\n",
       "  Text(0, 96, '96'),\n",
       "  Text(0, 97, '97'),\n",
       "  Text(0, 98, '98'),\n",
       "  Text(0, 99, '99'),\n",
       "  Text(0, 100, '100')])"
      ]
     },
     "execution_count": 94,
     "metadata": {},
     "output_type": "execute_result"
    },
    {
     "data": {
      "image/png": "[encoded data removed]",
      "text/plain": [
       "<Figure size 800x700 with 1 Axes>"
      ]
     },
     "metadata": {},
     "output_type": "display_data"
    }
   ],
   "source": [
    "import matplotlib.pyplot as plt\n",
    "plt.figure(figsize=(8,7))\n",
    "plt.bar(list(dct.keys()),list(dct.values()))\n",
    "plt.ylim(90,100)\n",
    "plt.yticks((91, 92, 93, 94, 95, 96, 97, 98, 99, 100))"
   ]
  }
 ],
 "metadata": {
  "accelerator": "GPU",
  "colab": {
   "name": "FakeNews(1).ipynb",
   "provenance": []
  },
  "kernelspec": {
   "display_name": "Python 3",
   "language": "python",
   "name": "python3"
  },
  "language_info": {
   "codemirror_mode": {
    "name": "ipython",
    "version": 3
   },
   "file_extension": ".py",
   "mimetype": "text/x-python",
   "name": "python",
   "nbconvert_exporter": "python",
   "pygments_lexer": "ipython3",
   "version": "3.9.13"
  }
 },
 "nbformat": 4,
 "nbformat_minor": 1
}
